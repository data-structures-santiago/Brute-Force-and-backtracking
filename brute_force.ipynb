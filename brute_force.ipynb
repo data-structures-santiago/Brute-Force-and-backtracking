{
  "nbformat": 4,
  "nbformat_minor": 0,
  "metadata": {
    "colab": {
      "provenance": []
    },
    "kernelspec": {
      "name": "python3",
      "display_name": "Python 3"
    },
    "language_info": {
      "name": "python"
    }
  },
  "cells": [
    {
      "cell_type": "markdown",
      "source": [
        "# 🧠 Brute Force: Resolver por Explotación Exhaustiva"
      ],
      "metadata": {
        "id": "ZB2xZnj9uFyX"
      }
    },
    {
      "cell_type": "markdown",
      "source": [
        "\n",
        "\n",
        "## 🗭 1. ¿Qué es Brute Force?\n",
        "\n",
        "> **Definición**: El enfoque de **fuerza bruta** consiste en generar **todas las posibles soluciones válidas** al problema y seleccionar la correcta (o la óptima, según el caso). Es el enfoque más directo, aunque no siempre el más eficiente.\n",
        "\n",
        "📌 **Palabras clave**:\n",
        "- Enumeración\n",
        "- Exhaustividad\n",
        "- Simplicidad\n",
        "- Exploración total del espacio de soluciones\n",
        "\n",
        "## 🌊 2. ¿Cuándo usarlo?\n",
        "\n",
        "💡 **Casos en los que Brute Force es una opción razonable**:\n",
        "- El tamaño del espacio de soluciones es pequeño (por ejemplo, ≤ 10⁶).\n",
        "- El problema tiene **una estructura combinatoria clara**.\n",
        "- No se ha encontrado un enfoque más eficiente.\n",
        "- Es una buena forma de **validar soluciones óptimas** durante el desarrollo.\n",
        "\n",
        "⚠️ **Limitaciones**:\n",
        "- Exponencial en tiempo si no se optimiza.\n",
        "- No escala bien con la entrada.\n",
        "- Necesita herramientas como **poda**, **simetrías**, o **ordenamientos previos** para ser competitiva.\n",
        "\n",
        "## 🧠 3. Modelo Mental: ¿Cómo piensa un algoritmo Brute Force?\n",
        "\n",
        "El enfoque se puede esquematizar como:\n",
        "\n",
        "```\n",
        "1. Generar TODAS las posibles configuraciones válidas.\n",
        "2. Verificar si cada configuración cumple la condición.\n",
        "3. Elegir (guardar) la mejor solución (si aplica).\n",
        "```\n",
        "\n",
        "🌟 Este modelo es clave para:\n",
        "- Problemas de conteo\n",
        "- Búsqueda de combinaciones / permutaciones\n",
        "- Construcción paso a paso (recursiva o iterativa)\n",
        "\n",
        "## 🛠️ 4. Plantilla General en Pseudocódigo\n",
        "\n",
        "```pseudo\n",
        "mejor_solucion = infinito o -1\n",
        "\n",
        "para cada posible solucion en el espacio:\n",
        "    si es_valida(solucion):\n",
        "        actualizar_mejor_solucion(solucion)\n",
        "```\n",
        "\n",
        "O en forma recursiva:\n",
        "\n",
        "```pseudo\n",
        "func resolver(estado):\n",
        "    si estado es completo:\n",
        "        si es valido:\n",
        "            actualizar mejor\n",
        "        retornar\n",
        "\n",
        "    para cada decisión posible desde estado:\n",
        "        aplicar(decisión)\n",
        "        resolver(nuevo estado)\n",
        "        deshacer(decisión)\n",
        "```\n",
        "\n",
        "## 📊 5. Ejemplo en Competencias: Subconjuntos que suman a K\n",
        "\n",
        "### Enunciado:\n",
        "> Dado un arreglo de enteros positivos `A` y un valor `K`, determinar cuántos subconjuntos de `A` tienen suma exactamente igual a `K`.\n",
        "\n",
        "### Ejemplo:\n",
        "```\n",
        "Entrada: A = [1, 2, 3], K = 3\n",
        "Salida: 2\n",
        "Explicación: Los subconjuntos válidos son [1,2] y [3]\n",
        "```\n",
        "\n",
        "### Código en C++:\n",
        "```cpp\n",
        "int contarSubconjuntos(vector<int>& A, int K, int i = 0, int suma = 0) {\n",
        "    if (i == A.size())\n",
        "        return suma == K ? 1 : 0;\n",
        "    return contarSubconjuntos(A, K, i + 1, suma) +\n",
        "           contarSubconjuntos(A, K, i + 1, suma + A[i]);\n",
        "}\n",
        "```\n",
        "\n",
        "🕟 Complejidad: `O(2^n)` donde `n = A.size()`.\n",
        "\n",
        "## ✂️ 6. Complemento: Poda en Brute Force\n",
        "\n",
        "🌟 La **poda** consiste en **evitar recorrer caminos que sabemos que no conducirán a una solución válida**.\n",
        "\n",
        "🔍 Ejemplo:\n",
        "- Si estás sumando y ya sobrepasaste `K`, puedes devolver antes de continuar.\n",
        "- Si estás construyendo una cadena y ya es inválida, cortas la recursión.\n",
        "\n",
        "## 🧱 7. Comparación con Otros Paradigmas\n",
        "\n",
        "| Criterio             | Brute Force          | Backtracking           | Programación Dinámica     |\n",
        "|----------------------|----------------------|-------------------------|---------------------------|\n",
        "| Exploración total    | ✅ Sí                | ⚠️ Parcial (con poda)   | ❌ Solo subproblemas      |\n",
        "| Uso de memoria       | Baja a moderada      | Moderada                | Alta (tablas de memo)     |\n",
        "| Eficiencia           | Baja (en general)    | Mejor que fuerza bruta  | Óptima (cuando aplica)    |\n",
        "| Facilidad de uso     | Muy alta             | Media                   | Media-Alta                |\n",
        "\n",
        "---\n",
        "\n",
        "🌟 Este enfoque, aunque simple, es una base sólida para la comprensión de técnicas más sofisticadas. En el siguiente notebook abordaremos ejercicios para que puedas practicar y dominar esta estrategia.\n",
        "\n"
      ],
      "metadata": {
        "id": "01lyKtKbuDRe"
      }
    },
    {
      "cell_type": "code",
      "execution_count": null,
      "metadata": {
        "id": "XOQy5FrIsEa2"
      },
      "outputs": [],
      "source": []
    },
    {
      "cell_type": "markdown",
      "source": [
        "---\n",
        "\n",
        "## 🧠 Enfoque Incluir/Excluir (Include/Exclude)\n",
        "\n",
        "El enfoque **Incluir/Excluir** es una técnica de **recursión sistemática** que explora todas las posibles decisiones para cada elemento de una lista. Cada elemento tiene dos opciones:\n",
        "\n",
        "1. ✅ **Incluirlo** en la solución actual.\n",
        "2. ❌ **Excluirlo** de la solución actual.\n",
        "\n",
        "Este enfoque permite **generar todos los subconjuntos posibles** del conjunto original.\n",
        "\n",
        "---\n",
        "\n",
        "### 🎯 ¿Dónde se aplica?\n",
        "Se usa en problemas como:\n",
        "\n",
        "- Contar subconjuntos con cierta propiedad (suma, tamaño, etc.)\n",
        "- Generar combinaciones o subconjuntos\n",
        "- Resolver problemas tipo mochila (knapsack)\n",
        "- Evaluar caminos posibles en una grilla\n",
        "\n",
        "---\n",
        "\n",
        "### 🧩 Modelo de pensamiento\n",
        "\n",
        "Dado un arreglo `data = [a₀, a₁, ..., aₙ₋₁]` y un índice `i`, tenemos:\n",
        "\n",
        "- Una **llamada recursiva que incluye** el elemento `data[i]`\n",
        "- Una **llamada recursiva que lo excluye**\n",
        "\n",
        "Esto se representa así:\n",
        "\n",
        "```python\n",
        "def f(i, current_sum):\n",
        "    if i == len(data):\n",
        "        # Caso base: ¿cumple la condición?\n",
        "        return 1 if current_sum == k else 0\n",
        "\n",
        "    # Rama 1: incluir data[i] en la suma\n",
        "    include = f(i + 1, current_sum + data[i])\n",
        "\n",
        "    # Rama 2: excluir data[i] de la suma\n",
        "    exclude = f(i + 1, current_sum)\n",
        "\n",
        "    return include + exclude\n",
        "```\n",
        "\n",
        "---\n",
        "\n",
        "### 🧠 Visualización de decisiones\n",
        "\n",
        "Para el arreglo `[1, 2, 3]` y `k = 3`, el árbol de decisiones se ve así:\n",
        "\n",
        "```\n",
        "                     []\n",
        "               /           \\\n",
        "            [1]            []\n",
        "          /    \\         /    \\\n",
        "      [1,2]   [1]     [2]     []\n",
        "     /   \\    / \\     / \\     / \\\n",
        "[1,2,3] ...  ... ... ... ... ... ...\n",
        "```\n",
        "\n",
        "Cada nodo representa una decisión de inclusión/exclusión. Se **exploran todas las combinaciones** posibles.\n",
        "\n",
        "---\n",
        "\n",
        "### ✅ Ventajas\n",
        "\n",
        "- Muy simple y sistemático.\n",
        "- Ideal para problemas donde hay que **explorar exhaustivamente** las posibilidades.\n",
        "- Útil para problemas de programación competitiva y entrevistas técnicas.\n",
        "\n",
        "---\n",
        "\n",
        "### ⚠️ Desventajas\n",
        "\n",
        "- Muy **ineficiente** para entradas grandes (\\(O(2^n)\\)).\n",
        "- **Repite subproblemas** que podrían guardarse (por eso se combina bien con **memoización**).\n",
        "- No funciona bien si los datos tienen muchos elementos similares a menos que se optimice.\n",
        "\n",
        "---\n",
        "\n",
        "### 🧪 Ejemplo aplicado\n",
        "\n",
        "Supongamos que queremos contar cuántos subconjuntos de `[1, 2, 3]` suman exactamente `3`.\n",
        "\n",
        "Las llamadas recursivas serían:\n",
        "\n",
        "```plaintext\n",
        "f(0, 0) → incluye 1 → f(1, 1)\n",
        "        → excluye 1 → f(1, 0)\n",
        "\n",
        "f(1, 1) → incluye 2 → f(2, 3) ✔️\n",
        "        → excluye 2 → f(2, 1)\n",
        "\n",
        "...\n",
        "```\n",
        "\n",
        "Se exploran todas las rutas posibles hasta encontrar aquellas que suman a 3.\n",
        "\n",
        "---\n",
        "\n",
        "### 🧠 Conclusión\n",
        "\n",
        "El enfoque **incluir/excluir** es la manera más natural de recorrer **el espacio completo de decisiones binarias** (sí o no) para cada elemento. Aunque no siempre es el más eficiente, es muy claro y poderoso como técnica base.\n",
        "\n",
        "---"
      ],
      "metadata": {
        "id": "5a4EMibY1xGt"
      }
    },
    {
      "cell_type": "code",
      "source": [
        "#Ejercicio previo\n",
        "\n",
        "def combinaciones(s: str, current_sol:str = \"\", result:list[str] = []) -> list[str]:\n",
        "  if(len(current_sol) == len(s)):\n",
        "    if(current_sol[1] == \"a\"):\n",
        "      result.append(current_sol)\n",
        "    return result\n",
        "\n",
        "  for i in range(len(s)):\n",
        "    if(s[i] in current_sol):\n",
        "      continue\n",
        "    current_sol += s[i]\n",
        "    if(len(current_sol) == 2 and current_sol[1] != \"a\"):\n",
        "      return\n",
        "    combinaciones(s, current_sol, result)\n",
        "    current_sol = current_sol[:-1]\n",
        "\n",
        "  return result\n",
        "\n",
        "combinaciones(\"abc\")"
      ],
      "metadata": {
        "colab": {
          "base_uri": "https://localhost:8080/"
        },
        "id": "gThD4RhEB5_c",
        "outputId": "ac694900-1405-4644-dd98-56ba0390d3c8"
      },
      "execution_count": null,
      "outputs": [
        {
          "output_type": "execute_result",
          "data": {
            "text/plain": [
              "['bac', 'cab']"
            ]
          },
          "metadata": {},
          "execution_count": 13
        }
      ]
    },
    {
      "cell_type": "code",
      "source": [
        "#Ejercicio previo\n",
        "\n",
        "def combinaciones(s: str, current_sol:str = \"\", result:list[str] = []) -> list[str]:\n",
        "  if(len(current_sol) == len(s)):\n",
        "    if(current_sol[1] == \"a\"):\n",
        "      result.append(current_sol)\n",
        "    return result\n",
        "\n",
        "  for i in range(len(s)):\n",
        "    if(s[i] in current_sol):\n",
        "      continue\n",
        "    if(len(current_sol) == 2 and current_sol[1] != \"a\"):\n",
        "      return\n",
        "    combinaciones(s, current_sol + s[i], result)\n",
        "\n",
        "\n",
        "  return result\n",
        "\n",
        "combinaciones(\"abc\")"
      ],
      "metadata": {
        "colab": {
          "base_uri": "https://localhost:8080/"
        },
        "id": "FN2l-xhfKJvp",
        "outputId": "2b64faf7-b3a4-465f-d092-dc66d321a46c"
      },
      "execution_count": null,
      "outputs": [
        {
          "output_type": "execute_result",
          "data": {
            "text/plain": [
              "['bac', 'cab']"
            ]
          },
          "metadata": {},
          "execution_count": 14
        }
      ]
    },
    {
      "cell_type": "markdown",
      "source": [
        "# 💪 Ejercicios de Programación Competitiva con Brute Force"
      ],
      "metadata": {
        "id": "eEbyIrDzuvVm"
      }
    },
    {
      "cell_type": "markdown",
      "source": [
        "---\n",
        "\n",
        "## 1. ✨ Subconjuntos con Suma Objetivo\n",
        "\n",
        "**Enunciado**: Dado un arreglo de `n` enteros positivos `A` y un entero positivo `K`, determine cuántos subconjuntos de `A` tienen suma exactamente igual a `K`.\n",
        "\n",
        "**Entrada**:\n",
        "```\n",
        "4 5\n",
        "1 2 3 4\n",
        "```\n",
        "\n",
        "**Salida**:\n",
        "```\n",
        "2\n",
        "```\n",
        "\n",
        "**Explicación**: Los subconjuntos [2,3] y [1,4] suman 5."
      ],
      "metadata": {
        "id": "s8zM647Hu0Bs"
      }
    },
    {
      "cell_type": "code",
      "source": [],
      "metadata": {
        "id": "3ipnej1duz4E"
      },
      "execution_count": null,
      "outputs": []
    },
    {
      "cell_type": "markdown",
      "source": [
        "---\n",
        "\n",
        "## 2. 🔢 Contraseñas Válidas\n",
        "\n",
        "**Enunciado**: Genere todas las contraseñas posibles de longitud `n` que solo usan dígitos del 0 al 9, y cuyas cifras suman exactamente `S`.\n",
        "\n",
        "**Entrada**:\n",
        "```\n",
        "2 5\n",
        "```\n",
        "\n",
        "**Salida**:\n",
        "```\n",
        "5\n",
        "```\n",
        "\n",
        "**Explicación**: 05, 14, 23, 32, 41 (no se permiten ceros iniciales excepto en el caso \"05\")."
      ],
      "metadata": {
        "id": "bI_fBNLNu1cl"
      }
    },
    {
      "cell_type": "code",
      "source": [],
      "metadata": {
        "id": "qBnJ6vQau4yk"
      },
      "execution_count": null,
      "outputs": []
    },
    {
      "cell_type": "markdown",
      "source": [
        "---\n",
        "\n",
        "## 3. ⚔️ Permutaciones Divisibles\n",
        "\n",
        "**Enunciado**: Dado un entero `n`, calcule cuántas permutaciones de los dígitos del 1 al `n` forman un número divisible por 3.\n",
        "\n",
        "**Entrada**:\n",
        "```\n",
        "3\n",
        "```\n",
        "\n",
        "**Salida**:\n",
        "```\n",
        "2\n",
        "```\n",
        "\n",
        "**Explicación**: Las permutaciones 123 y 321 son divisibles por 3."
      ],
      "metadata": {
        "id": "H9dwYHOvu6_V"
      }
    },
    {
      "cell_type": "code",
      "source": [],
      "metadata": {
        "id": "NfRn9L9Ku74E"
      },
      "execution_count": null,
      "outputs": []
    },
    {
      "cell_type": "markdown",
      "source": [
        "---\n",
        "\n",
        "## 4. 📊 Particiones con Diferencia\n",
        "\n",
        "**Enunciado**: Dado un conjunto de `n` números enteros, determine si es posible dividirlos en dos subconjuntos de forma que la diferencia absoluta entre sus sumas sea exactamente `D`.\n",
        "\n",
        "**Entrada**:\n",
        "```\n",
        "4 2\n",
        "1 3 2 4\n",
        "```\n",
        "\n",
        "**Salida**:\n",
        "```\n",
        "YES\n",
        "```\n"
      ],
      "metadata": {
        "id": "S3xYd6y7u9nd"
      }
    },
    {
      "cell_type": "code",
      "source": [],
      "metadata": {
        "id": "8sTw2e4mu-VE"
      },
      "execution_count": null,
      "outputs": []
    },
    {
      "cell_type": "markdown",
      "source": [
        "---\n",
        "\n",
        "## 5. 🌐 Contraseñas Binarias con Reglas\n",
        "\n",
        "**Enunciado**: Genere todas las cadenas binarias de longitud `n` que no tengan dos 1 consecutivos.\n",
        "\n",
        "**Entrada**:\n",
        "```\n",
        "4\n",
        "```\n",
        "\n",
        "**Salida**:\n",
        "```\n",
        "5\n",
        "```\n",
        "\n",
        "**Explicación**: Las cadenas válidas son: 0000, 0001, 0010, 0100, 0101.\n"
      ],
      "metadata": {
        "id": "vy0gsmzUvAb9"
      }
    },
    {
      "cell_type": "code",
      "source": [],
      "metadata": {
        "id": "bv5cNjTSvBQ9"
      },
      "execution_count": null,
      "outputs": []
    },
    {
      "cell_type": "markdown",
      "source": [
        "---\n",
        "\n",
        "## 6. 🌿 Caminos en una Grilla\n",
        "\n",
        "**Enunciado**: Desde la esquina superior izquierda de una grilla `n x n`, cuente cuántos caminos hay hasta la esquina inferior derecha, moviéndose solo hacia la derecha o hacia abajo. No hay restricciones de obstáculos.\n",
        "\n",
        "**Entrada**:\n",
        "```\n",
        "2\n",
        "```\n",
        "\n",
        "**Salida**:\n",
        "```\n",
        "6\n",
        "```\n",
        "\n",
        "**Explicación**: Se pueden formar 6 rutas distintas de longitud 4."
      ],
      "metadata": {
        "id": "VkzC1BINvDAc"
      }
    },
    {
      "cell_type": "code",
      "source": [],
      "metadata": {
        "id": "85u-Kp8UvD-l"
      },
      "execution_count": null,
      "outputs": []
    },
    {
      "cell_type": "markdown",
      "source": [
        "---\n",
        "\n",
        "## 7. 🚗 Asignación de Estacionamientos\n",
        "\n",
        "\n",
        "**Enunciado**:\n",
        "Hay `n` carros numerados del 1 al `n` y `n` espacios de parqueo numerados también del 1 al `n`.  \n",
        "Cada carro tiene una lista de espacios donde puede parquearse.  \n",
        "Cada carro debe ocupar exactamente **un espacio diferente** (no pueden compartir espacios), y ese espacio debe estar en su lista de espacios permitidos.\n",
        "\n",
        "**Calcule el número total de maneras diferentes de asignar los carros a los espacios de parqueo cumpliendo estas condiciones.**\n",
        "\n",
        "Si no hay ninguna asignación válida, imprima `0`.\n",
        "\n",
        "---\n",
        "\n",
        "**Entrada:**\n",
        "- La primera línea contiene un entero `n`.\n",
        "- Luego siguen `n` líneas, donde la `i`-ésima línea contiene una lista de espacios permitidos para el carro `i`, separados por espacios. Los espacios son números entre 1 y `n`.\n",
        "\n",
        "**Salida:**\n",
        "- Un único entero: el número de asignaciones válidas.\n",
        "\n",
        "---\n",
        "\n",
        "**Ejemplo:**\n",
        "```\n",
        "Entrada:\n",
        "3\n",
        "1 2\n",
        "2 3\n",
        "1 3\n",
        "\n",
        "Salida:\n",
        "2\n",
        "```\n",
        "\n",
        "---\n"
      ],
      "metadata": {
        "id": "OgJR5fmFvFt2"
      }
    },
    {
      "cell_type": "code",
      "source": [],
      "metadata": {
        "id": "3TJDqbGjvGZV"
      },
      "execution_count": null,
      "outputs": []
    },
    {
      "cell_type": "markdown",
      "source": [
        "---\n",
        "\n",
        "## 8. ⚽ Suma con Repeticiones Permitidas\n",
        "\n",
        "**Enunciado**: Dado un conjunto de `n` enteros positivos `A` y un entero `K`, cuente cuántas secuencias (de cualquier longitud) se pueden formar usando elementos de `A` (se pueden repetir) cuya suma sea exactamente `K`.\n",
        "\n",
        "**Entrada**:\n",
        "```\n",
        "2 4\n",
        "1 2\n",
        "```\n",
        "\n",
        "**Salida**:\n",
        "```\n",
        "5\n",
        "```\n",
        "\n",
        "**Explicación**: Las secuencias son: [1,1,1,1], [2,2], [1,1,2], [1,2,1], [2,1,1].\n"
      ],
      "metadata": {
        "id": "SZl7424uvI2V"
      }
    },
    {
      "cell_type": "code",
      "source": [],
      "metadata": {
        "id": "tVhY0DRAvJlO"
      },
      "execution_count": null,
      "outputs": []
    },
    {
      "cell_type": "markdown",
      "source": [
        "---\n",
        "\n",
        "## 9. 🎢 Rutas de Altura Segura\n",
        "\n",
        "**Enunciado**:  \n",
        "Estás generando rutas compuestas por `n` pasos, donde cada paso representa un cambio de altura:\n",
        "- Un paso hacia **arriba** se representa como `+1`.\n",
        "- Un paso hacia **abajo** se representa como `-1`.\n",
        "\n",
        "Una secuencia de pasos es **válida** si cumple todas las siguientes condiciones:\n",
        "\n",
        "1. **Comienza en el nivel 0.**  \n",
        "2. **Termina en el nivel 0.**\n",
        "3. **Nunca baja por debajo del nivel 0** en ningún punto de la secuencia.\n",
        "\n",
        "Tu tarea es contar cuántas secuencias válidas existen de `n` pasos.\n",
        "\n",
        "📌 **Importante**:\n",
        "- `n` debe ser un número **par**, ya que cada subida debe compensarse con una bajada para regresar al nivel 0.\n",
        "- Si `n` es impar, no puede existir ninguna secuencia válida.\n",
        "\n",
        "---\n",
        "\n",
        "**Entrada**:\n",
        "Un número entero `n` (número de pasos).\n",
        "\n",
        "```\n",
        "4\n",
        "```\n",
        "\n",
        "**Salida**:\n",
        "Un número entero: la cantidad de secuencias válidas.\n",
        "\n",
        "```\n",
        "2\n",
        "```\n",
        "\n",
        "---\n",
        "\n",
        "**Explicación del ejemplo**:\n",
        "\n",
        "Las secuencias válidas con 4 pasos que suben y bajan, sin bajar nunca de nivel 0, son:\n",
        "\n",
        "1. `[+1, +1, -1, -1]` → sube a nivel 2, luego baja a nivel 0.\n",
        "2. `[+1, -1, +1, -1]` → sube a 1, baja a 0, sube a 1, baja a 0.\n",
        "\n",
        "La secuencia `[+1, -1, -1, +1]` **no es válida**, porque en el tercer paso baja a nivel -1, lo cual está prohibido.\n",
        "\n",
        "---"
      ],
      "metadata": {
        "id": "qaeuJD1RvLQO"
      }
    },
    {
      "cell_type": "code",
      "source": [],
      "metadata": {
        "id": "mVg81Wo4vMAd"
      },
      "execution_count": null,
      "outputs": []
    },
    {
      "cell_type": "markdown",
      "source": [
        "\n",
        "\n",
        "\n",
        "\n",
        "\n",
        "\n",
        "\n",
        "\n",
        "\n",
        "\n",
        "\n",
        "\n",
        "\n",
        "\n",
        "\n",
        "---\n",
        "\n",
        "## 10. 🚀 Simulador de Combinaciones de Botones\n",
        "\n",
        "**Enunciado**: Un panel tiene `n` botones, cada uno con 3 posibles estados (apagado, medio, encendido). Calcule cuántas configuraciones distintas existen donde exactamente `k` botones estén en estado \"encendido\".\n",
        "\n",
        "**Entrada**:\n",
        "```\n",
        "3 2\n",
        "```\n",
        "\n",
        "**Salida**:\n",
        "```\n",
        "6\n",
        "```\n",
        "\n",
        "**Explicación**: Hay 6 formas de tener exactamente 2 botones encendidos entre 3 botones con 3 estados posibles cada uno.\n",
        "\n",
        "---\n",
        "\n",
        "\n"
      ],
      "metadata": {
        "id": "mRwF7Zk5usxt"
      }
    }
  ]
}